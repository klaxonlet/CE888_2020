{
  "nbformat": 4,
  "nbformat_minor": 0,
  "metadata": {
    "colab": {
      "name": "lab1_task.ipynb",
      "provenance": [],
      "collapsed_sections": [],
      "authorship_tag": "ABX9TyPUku7q+EcY2lndL4i1IfbH",
      "include_colab_link": true
    },
    "kernelspec": {
      "name": "python3",
      "display_name": "Python 3"
    },
    "accelerator": "GPU"
  },
  "cells": [
    {
      "cell_type": "markdown",
      "metadata": {
        "id": "view-in-github",
        "colab_type": "text"
      },
      "source": [
        "<a href=\"https://colab.research.google.com/github/klaxonlet/CE888_2020/blob/master/lab1_task.ipynb\" target=\"_parent\"><img src=\"https://colab.research.google.com/assets/colab-badge.svg\" alt=\"Open In Colab\"/></a>"
      ]
    },
    {
      "cell_type": "markdown",
      "metadata": {
        "id": "i0CXt4Wg_BeQ",
        "colab_type": "text"
      },
      "source": [
        ""
      ]
    },
    {
      "cell_type": "markdown",
      "metadata": {
        "id": "6X-TO_KR1mjo",
        "colab_type": "text"
      },
      "source": [
        "## Questions to be done during the lab:\n",
        "\n",
        "1. Create a (4 x 2) integer array and print it's attributes\n",
        "\n",
        "2. Create an array of dimension (1,10) and sort it in ascending and descending order\n",
        "\n",
        "3. Convert an 1D array [1 2 3 4 5 6 7 8 9] to 2D array [[1 2 3], [4 5 6], [7 8 9]]\n",
        "\n",
        "4. Stack two arrays of any size horizontally and vertically\n",
        "\n",
        "5. Create two array of same size and find commom elements\n",
        "\n",
        "6. Create a 2D array of 5 by 5 and find the min and max values from each row and each column\n",
        "\n",
        "7. Create an array of size 100 and  compute the mean, median, standard deviation. \n",
        "\n",
        "8. Normalize a 5x5 random matrix \n",
        "\n",
        "9. Consider an array of dimension (4,4,3), how to mulitply it by an array with dimensions (4,4)?\n",
        "\n"
      ]
    },
    {
      "cell_type": "code",
      "metadata": {
        "id": "z6JRa0-RF-ET",
        "colab_type": "code",
        "colab": {}
      },
      "source": [
        "import matplotlib.pyplot as plt\n",
        "import numpy as np"
      ],
      "execution_count": 0,
      "outputs": []
    },
    {
      "cell_type": "code",
      "metadata": {
        "id": "OA-CFoi02hkH",
        "colab_type": "code",
        "colab": {}
      },
      "source": [
        "# Question 1\n",
        "a = np.array([[0,1],[2,3],[4,5],[6,7]])\n",
        "print(type(a))\n",
        "print(a.dtype)\n",
        "print(a.ndim)\n",
        "print(a.shape)\n",
        "print(a.itemsize)\n",
        "print(a.nbytes)\n",
        "print(a.size)\n"
      ],
      "execution_count": 0,
      "outputs": []
    },
    {
      "cell_type": "code",
      "metadata": {
        "id": "kGSLF7tEAAKM",
        "colab_type": "code",
        "colab": {}
      },
      "source": [
        "# Question 2\n",
        "b = np.array([1,3,2,4,6,5,7,9,8,10])\n",
        "b_asc = np.sort(b)\n",
        "b_des = -np.sort(-b)\n",
        "print(b_asc,b_des)"
      ],
      "execution_count": 0,
      "outputs": []
    },
    {
      "cell_type": "code",
      "metadata": {
        "id": "5trlX2NsB7p2",
        "colab_type": "code",
        "colab": {}
      },
      "source": [
        "# Question 3\n",
        "c = np.array([1,2,3,4,5,6,7,8,9])\n",
        "c = np.reshape(c,(3,3))\n",
        "print(c)\n"
      ],
      "execution_count": 0,
      "outputs": []
    },
    {
      "cell_type": "code",
      "metadata": {
        "id": "AbSC6uUzF1yL",
        "colab_type": "code",
        "colab": {}
      },
      "source": [
        "# Question 4\n",
        "d = np.array([1,2,3])\n",
        "e = np.array([4,5,6])\n",
        "h_stack = np.stack((d,e),axis = 0)\n",
        "v_stack = np.stack((d,e),axis = 1)\n",
        "print(h_stack)\n",
        "\n"
      ],
      "execution_count": 0,
      "outputs": []
    },
    {
      "cell_type": "code",
      "metadata": {
        "id": "CgB1yuHlIZpq",
        "colab_type": "code",
        "colab": {}
      },
      "source": [
        "# Question 5\n",
        "np.intersect1d([1,2,3],[4,2,5])"
      ],
      "execution_count": 0,
      "outputs": []
    },
    {
      "cell_type": "code",
      "metadata": {
        "id": "jPLdWDe3JV5k",
        "colab_type": "code",
        "colab": {}
      },
      "source": [
        "# Question 6 \n",
        "f = np.random.randint(10,size=(5,5))\n",
        "\n",
        "column_max = np.max(f,axis=0)\n",
        "row_max = np.max(f,axis=1)\n",
        "column_min = np.min(f,axis=0)\n",
        "row_min = np.min(f,axis=1)\n",
        "\n",
        "print(column_max,row_max,column_min,row_min)\n",
        "\n"
      ],
      "execution_count": 0,
      "outputs": []
    },
    {
      "cell_type": "code",
      "metadata": {
        "id": "pRmA91-vOMTE",
        "colab_type": "code",
        "colab": {}
      },
      "source": [
        "# Question 7\n",
        "g = np.random.randint(50, size=100)\n",
        "mean = np.mean(g)\n",
        "median = np.median(g)\n",
        "std = np.std(g)\n",
        "print(mean,median,std)"
      ],
      "execution_count": 0,
      "outputs": []
    },
    {
      "cell_type": "code",
      "metadata": {
        "id": "YCMyVFwAPkQp",
        "colab_type": "code",
        "colab": {}
      },
      "source": [
        "# Question 8\n",
        "from sklearn.preprocessing import normalize\n",
        "h = np.random.randint(10,size=(5,5))\n",
        "h_norm = normalize(h)\n",
        "print(h_norm)"
      ],
      "execution_count": 0,
      "outputs": []
    },
    {
      "cell_type": "code",
      "metadata": {
        "id": "ESecgM75QwrB",
        "colab_type": "code",
        "colab": {}
      },
      "source": [
        "#Question 9\n",
        "i = np.random.randint(10,size=(4,4,3))\n",
        "j = np.random.randint(10,size=(4,4))\n",
        "print(np.dot(i,j))"
      ],
      "execution_count": 0,
      "outputs": []
    }
  ]
}