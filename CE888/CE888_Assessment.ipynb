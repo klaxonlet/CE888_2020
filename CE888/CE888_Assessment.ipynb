{
  "nbformat": 4,
  "nbformat_minor": 0,
  "metadata": {
    "colab": {
      "name": "CE888_Reassessment.ipynb",
      "provenance": [],
      "authorship_tag": "ABX9TyPe8LxfXl02bW2QqScSqJt0",
      "include_colab_link": true
    },
    "kernelspec": {
      "name": "python3",
      "display_name": "Python 3"
    }
  },
  "cells": [
    {
      "cell_type": "markdown",
      "metadata": {
        "id": "view-in-github",
        "colab_type": "text"
      },
      "source": [
        "<a href=\"https://colab.research.google.com/github/klaxonlet/CE888_2020/blob/master/CE888_Reassessment.ipynb\" target=\"_parent\"><img src=\"https://colab.research.google.com/assets/colab-badge.svg\" alt=\"Open In Colab\"/></a>"
      ]
    },
    {
      "cell_type": "code",
      "metadata": {
        "id": "iXHNIMRSeosM"
      },
      "source": [
        "pip install modAL"
      ],
      "execution_count": null,
      "outputs": []
    },
    {
      "cell_type": "code",
      "metadata": {
        "id": "2bZQRagL1Zf4"
      },
      "source": [
        "pip install odfpy"
      ],
      "execution_count": null,
      "outputs": []
    },
    {
      "cell_type": "code",
      "metadata": {
        "id": "i4tRIalJiM8M"
      },
      "source": [
        "import pandas as pd\n",
        "from modAL.models import ActiveLearner\n",
        "from sklearn.ensemble import RandomForestClassifier\n",
        "from sklearn.tree import DecisionTreeClassifier\n",
        "from sklearn.model_selection import cross_val_score\n",
        "from sklearn.preprocessing import OrdinalEncoder\n"
      ],
      "execution_count": 119,
      "outputs": []
    },
    {
      "cell_type": "code",
      "metadata": {
        "id": "flu6yJA-85bw"
      },
      "source": [
        "# Loading our breast cancer dataset\n",
        "data1_X = pd.read_csv('dataR2.csv')"
      ],
      "execution_count": 75,
      "outputs": []
    },
    {
      "cell_type": "code",
      "metadata": {
        "id": "VZ16Yzcl9OFo"
      },
      "source": [
        "data1_y = data1_X['Classification']\n",
        "del data1_X['Classification'] "
      ],
      "execution_count": 76,
      "outputs": []
    },
    {
      "cell_type": "code",
      "metadata": {
        "id": "mjstbaXu-cBI"
      },
      "source": [
        "# first dataset first model\n",
        "al_1 = ActiveLearner(estimator=RandomForestClassifier())\n",
        "scores1 = cross_val_score(al_1, data1_X, data1_y, cv=10)"
      ],
      "execution_count": null,
      "outputs": []
    },
    {
      "cell_type": "code",
      "metadata": {
        "id": "blI9PwjojltA",
        "outputId": "d634cbc4-aeaa-4d44-e085-4ea4782242ba",
        "colab": {
          "base_uri": "https://localhost:8080/",
          "height": 34
        }
      },
      "source": [
        "scores1.mean()"
      ],
      "execution_count": 137,
      "outputs": [
        {
          "output_type": "execute_result",
          "data": {
            "text/plain": [
              "0.5712121212121213"
            ]
          },
          "metadata": {
            "tags": []
          },
          "execution_count": 137
        }
      ]
    },
    {
      "cell_type": "code",
      "metadata": {
        "id": "5mmB5wcGlnRM"
      },
      "source": [
        "# first dataset second model\n",
        "al1_2 = ActiveLearner(estimator=DecisionTreeClassifier(random_state=42))\n",
        "scores1_2 = cross_val_score(al1_2, data1_X, data1_y, cv=10)"
      ],
      "execution_count": null,
      "outputs": []
    },
    {
      "cell_type": "code",
      "metadata": {
        "id": "EZkZ44jCm9Zs",
        "outputId": "7375fc0e-76e6-4934-fb17-7ef0a1cf00b0",
        "colab": {
          "base_uri": "https://localhost:8080/",
          "height": 34
        }
      },
      "source": [
        "scores1_2.mean()"
      ],
      "execution_count": 136,
      "outputs": [
        {
          "output_type": "execute_result",
          "data": {
            "text/plain": [
              "0.556060606060606"
            ]
          },
          "metadata": {
            "tags": []
          },
          "execution_count": 136
        }
      ]
    },
    {
      "cell_type": "code",
      "metadata": {
        "id": "-m2z0SngycQ8"
      },
      "source": [
        "# loading our bank dataset\n",
        "data2_X = pd.read_excel(\"bank-additional-full(1).ods\", engine=\"odf\")\n"
      ],
      "execution_count": 122,
      "outputs": []
    },
    {
      "cell_type": "code",
      "metadata": {
        "id": "k7JSDcHI1SWE"
      },
      "source": [
        "data2_y = data2_X['y']\n",
        "del data2_X['y']"
      ],
      "execution_count": 123,
      "outputs": []
    },
    {
      "cell_type": "code",
      "metadata": {
        "id": "Jm-wzvEV1_Ek"
      },
      "source": [
        "# data preparation\n",
        "encoder = OrdinalEncoder()\n",
        "cat_data = data2_X[['Job','Marital','Education','Default(credit)','Housing(loan)','Loan','Contact','Month','day_of_week','poutcome']].copy()"
      ],
      "execution_count": 124,
      "outputs": []
    },
    {
      "cell_type": "code",
      "metadata": {
        "id": "3UcO0Fm02W5k"
      },
      "source": [
        "cat_data_encoded = encoder.fit_transform(cat_data)\n",
        "cat_data_encoded = pd.DataFrame(cat_data_encoded)\n",
        "cat_data_encoded.columns = ['Job','Marital','Education','Default(credit)','Housing(loan)','Loan','Contact','Month','day_of_week','poutcome']"
      ],
      "execution_count": 125,
      "outputs": []
    },
    {
      "cell_type": "code",
      "metadata": {
        "id": "bfWCS8DR2W-Q"
      },
      "source": [
        "data2_X.drop(['Job','Marital','Education','Default(credit)','Housing(loan)','Loan','Contact','Month','day_of_week','poutcome'], axis=1, inplace=True)"
      ],
      "execution_count": 126,
      "outputs": []
    },
    {
      "cell_type": "code",
      "metadata": {
        "id": "V_BkLIoO2XC8"
      },
      "source": [
        "for i in cat_data_encoded.columns:\n",
        "  data2_X[i] = cat_data_encoded[i].values"
      ],
      "execution_count": 127,
      "outputs": []
    },
    {
      "cell_type": "code",
      "metadata": {
        "id": "J6K0rcEV1sqc"
      },
      "source": [
        "# second dataset first model\n",
        "al_2 = ActiveLearner(estimator=RandomForestClassifier())\n",
        "scores2 = cross_val_score(al_2, data2_X, data2_y, cv=10)"
      ],
      "execution_count": null,
      "outputs": []
    },
    {
      "cell_type": "code",
      "metadata": {
        "id": "cNbfH1sT1wbE",
        "outputId": "37c13095-b0b2-49e0-e5bc-70041e552dd4",
        "colab": {
          "base_uri": "https://localhost:8080/",
          "height": 34
        }
      },
      "source": [
        "scores2.mean()"
      ],
      "execution_count": 134,
      "outputs": [
        {
          "output_type": "execute_result",
          "data": {
            "text/plain": [
              "0.8995259591976013"
            ]
          },
          "metadata": {
            "tags": []
          },
          "execution_count": 134
        }
      ]
    },
    {
      "cell_type": "code",
      "metadata": {
        "id": "ImI8fNvh1zeY"
      },
      "source": [
        "# second dataset second model\n",
        "al_2_2 = ActiveLearner(estimator=DecisionTreeClassifier(random_state=42))\n",
        "scores2_2 = cross_val_score(al_2, data2_X, data2_y, cv=10)"
      ],
      "execution_count": null,
      "outputs": []
    },
    {
      "cell_type": "code",
      "metadata": {
        "id": "XIVLxgw_4EFE",
        "outputId": "cc6b7017-ab39-4434-e145-350ad6dd5321",
        "colab": {
          "base_uri": "https://localhost:8080/",
          "height": 34
        }
      },
      "source": [
        "scores2_2.mean()"
      ],
      "execution_count": 135,
      "outputs": [
        {
          "output_type": "execute_result",
          "data": {
            "text/plain": [
              "0.8730369786845239"
            ]
          },
          "metadata": {
            "tags": []
          },
          "execution_count": 135
        }
      ]
    }
  ]
}
