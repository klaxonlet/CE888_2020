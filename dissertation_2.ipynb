{
  "nbformat": 4,
  "nbformat_minor": 0,
  "metadata": {
    "colab": {
      "name": "dissertation",
      "provenance": [],
      "collapsed_sections": [],
      "authorship_tag": "ABX9TyNvYi+VI0a+ukbwXQ6MgWaa",
      "include_colab_link": true
    },
    "kernelspec": {
      "name": "python3",
      "display_name": "Python 3"
    }
  },
  "cells": [
    {
      "cell_type": "markdown",
      "metadata": {
        "id": "view-in-github",
        "colab_type": "text"
      },
      "source": [
        "<a href=\"https://colab.research.google.com/github/klaxonlet/CE888_2020/blob/master/dissertation_2.ipynb\" target=\"_parent\"><img src=\"https://colab.research.google.com/assets/colab-badge.svg\" alt=\"Open In Colab\"/></a>"
      ]
    },
    {
      "cell_type": "code",
      "metadata": {
        "id": "lcf-mAuIFPVQ",
        "colab_type": "code",
        "colab": {}
      },
      "source": [
        "pip install odfpy"
      ],
      "execution_count": null,
      "outputs": []
    },
    {
      "cell_type": "code",
      "metadata": {
        "id": "_daPy3BcSGvI",
        "colab_type": "code",
        "colab": {}
      },
      "source": [
        "pip install --upgrade xgboost"
      ],
      "execution_count": null,
      "outputs": []
    },
    {
      "cell_type": "code",
      "metadata": {
        "id": "5T6SQIhE6Gd0",
        "colab_type": "code",
        "colab": {}
      },
      "source": [
        "import pandas as pd\n",
        "import numpy as np\n",
        "%matplotlib inline\n",
        "import matplotlib.pyplot as plt\n",
        "from sklearn.model_selection import train_test_split\n",
        "from sklearn.preprocessing import OrdinalEncoder\n",
        "from xgboost import XGBClassifier\n",
        "from sklearn.metrics import accuracy_score\n",
        "from sklearn.tree import DecisionTreeClassifier\n",
        "from sklearn import tree\n",
        "from sklearn.linear_model import LogisticRegression\n"
      ],
      "execution_count": null,
      "outputs": []
    },
    {
      "cell_type": "code",
      "metadata": {
        "id": "h_50KChc7qvA",
        "colab_type": "code",
        "colab": {}
      },
      "source": [
        "data = pd.read_excel(\"bank-additional-full(1).ods\", engine=\"odf\")"
      ],
      "execution_count": null,
      "outputs": []
    },
    {
      "cell_type": "code",
      "metadata": {
        "id": "NJ24iEDH8Fa0",
        "colab_type": "code",
        "colab": {}
      },
      "source": [
        "data.hist(bins=50, figsize=(20,15))\n",
        "plt.show()"
      ],
      "execution_count": null,
      "outputs": []
    },
    {
      "cell_type": "code",
      "metadata": {
        "id": "bQrEySWxNE3s",
        "colab_type": "code",
        "colab": {}
      },
      "source": [
        "# seperating our target variable from our dataset.\n",
        "data_target = data['y']\n",
        "del data['y']"
      ],
      "execution_count": null,
      "outputs": []
    },
    {
      "cell_type": "code",
      "metadata": {
        "id": "FmlFOUIQOjWk",
        "colab_type": "code",
        "colab": {}
      },
      "source": [
        "data.info()"
      ],
      "execution_count": null,
      "outputs": []
    },
    {
      "cell_type": "code",
      "metadata": {
        "id": "N320us4fE1a4",
        "colab_type": "code",
        "colab": {}
      },
      "source": [
        "# seperating our categorical variables to 'cat_data' for encoding. \n",
        "# Calling sklearn's OrdinalEncoder as 'encoder'.\n",
        "encoder = OrdinalEncoder()\n",
        "cat_data = data[['Job','Marital','Education','Default(credit)','Housing(loan)','Loan','Contact','Month','day_of_week','poutcome']].copy()"
      ],
      "execution_count": null,
      "outputs": []
    },
    {
      "cell_type": "code",
      "metadata": {
        "id": "xzVVXv-IFEC0",
        "colab_type": "code",
        "colab": {}
      },
      "source": [
        "# encoding our categorical data. \n",
        "cat_data_encoded = encoder.fit_transform(cat_data)\n",
        "print(type(cat_data_encoded))"
      ],
      "execution_count": null,
      "outputs": []
    },
    {
      "cell_type": "code",
      "metadata": {
        "id": "eMmNRiw5FNcY",
        "colab_type": "code",
        "colab": {}
      },
      "source": [
        "# List of categories for all our categorical variables. Useful for future reference.\n",
        "encoder.categories_"
      ],
      "execution_count": null,
      "outputs": []
    },
    {
      "cell_type": "code",
      "metadata": {
        "id": "5-8BJrawFTYE",
        "colab_type": "code",
        "colab": {}
      },
      "source": [
        "# converting numpy array to DataFrame for merging back with data.\n",
        "cat_data_encoded = pd.DataFrame(cat_data_encoded)\n",
        "cat_data_encoded.head()"
      ],
      "execution_count": null,
      "outputs": []
    },
    {
      "cell_type": "code",
      "metadata": {
        "id": "KInn5gCCFTkk",
        "colab_type": "code",
        "colab": {}
      },
      "source": [
        "# adding column names \n",
        "cat_data_encoded.columns = ['Job','Marital','Education','Default(credit)','Housing(loan)','Loan','Contact','Month','day_of_week','poutcome']\n",
        "cat_data_encoded.head()"
      ],
      "execution_count": null,
      "outputs": []
    },
    {
      "cell_type": "code",
      "metadata": {
        "id": "CV-484leF1lI",
        "colab_type": "code",
        "colab": {}
      },
      "source": [
        "# dropping categorical variables for encoded ones.\n",
        "data.drop(['Job','Marital','Education','Default(credit)','Housing(loan)','Loan','Contact','Month','day_of_week','poutcome'], axis=1, inplace=True)"
      ],
      "execution_count": null,
      "outputs": []
    },
    {
      "cell_type": "code",
      "metadata": {
        "id": "uHof8SGPF1zM",
        "colab_type": "code",
        "colab": {}
      },
      "source": [
        "len(cat_data_encoded)"
      ],
      "execution_count": null,
      "outputs": []
    },
    {
      "cell_type": "code",
      "metadata": {
        "id": "Rx1xzjSoF1gc",
        "colab_type": "code",
        "colab": {}
      },
      "source": [
        "len(data)"
      ],
      "execution_count": null,
      "outputs": []
    },
    {
      "cell_type": "code",
      "metadata": {
        "id": "OR390XBRKmag",
        "colab_type": "code",
        "colab": {}
      },
      "source": [
        "# merging encoded attriutes back with complete data\n",
        "for i in cat_data_encoded.columns:\n",
        "  data[i] = cat_data_encoded[i].values"
      ],
      "execution_count": null,
      "outputs": []
    },
    {
      "cell_type": "code",
      "metadata": {
        "id": "dOAEbVCGNZDU",
        "colab_type": "code",
        "colab": {}
      },
      "source": [
        "data.tail(30)"
      ],
      "execution_count": null,
      "outputs": []
    },
    {
      "cell_type": "code",
      "metadata": {
        "id": "1N094OEaM5B4",
        "colab_type": "code",
        "colab": {}
      },
      "source": [
        "# Splitting data set into training and testing.\n",
        "data_train, data_test, target_train, target_test = train_test_split(data, data_target, test_size=0.20, random_state=42)"
      ],
      "execution_count": null,
      "outputs": []
    },
    {
      "cell_type": "code",
      "metadata": {
        "id": "y997Q7I1PGQ8",
        "colab_type": "code",
        "colab": {}
      },
      "source": [
        "# Correlation matrix to check for correlation between all numeric attributes.\n",
        "corr_matrix = data_train.corr()\n",
        "corr_matrix"
      ],
      "execution_count": null,
      "outputs": []
    },
    {
      "cell_type": "code",
      "metadata": {
        "id": "LGHqBnUoI5wc",
        "colab_type": "code",
        "colab": {}
      },
      "source": [
        "# First model using XGBoost\n",
        "model_xg = XGBClassifier()\n",
        "model_xg.fit(data_train, target_train)"
      ],
      "execution_count": null,
      "outputs": []
    },
    {
      "cell_type": "code",
      "metadata": {
        "id": "6qQ07YzH_JjY",
        "colab_type": "code",
        "colab": {}
      },
      "source": [
        "prediction_xg = model_xg.predict(data_test)"
      ],
      "execution_count": null,
      "outputs": []
    },
    {
      "cell_type": "code",
      "metadata": {
        "id": "uevZb-yV_c9k",
        "colab_type": "code",
        "colab": {
          "base_uri": "https://localhost:8080/",
          "height": 34
        },
        "outputId": "6ad3e33f-d758-4888-ecb9-bb2062fcd92d"
      },
      "source": [
        "accuracy_xg = accuracy_score(target_test, prediction_xg)\n",
        "accuracy_xg"
      ],
      "execution_count": null,
      "outputs": [
        {
          "output_type": "execute_result",
          "data": {
            "text/plain": [
              "0.9147851420247632"
            ]
          },
          "metadata": {
            "tags": []
          },
          "execution_count": 25
        }
      ]
    },
    {
      "cell_type": "code",
      "metadata": {
        "id": "6hn69BSzUz3Y",
        "colab_type": "code",
        "colab": {}
      },
      "source": [
        "# Second model using Decision Tree\n",
        "model_dt = DecisionTreeClassifier(random_state=42)\n",
        "model_dt.fit(data_train, target_train)\n"
      ],
      "execution_count": null,
      "outputs": []
    },
    {
      "cell_type": "code",
      "metadata": {
        "id": "Zrm4IfctVr0o",
        "colab_type": "code",
        "colab": {
          "base_uri": "https://localhost:8080/",
          "height": 34
        },
        "outputId": "c758debd-66c9-4d79-89d6-75311f2aab55"
      },
      "source": [
        "prediction_dt = model_dt.predict(data_test)\n",
        "accuracy_dt = accuracy_score(target_test, prediction_dt)\n",
        "accuracy_dt"
      ],
      "execution_count": null,
      "outputs": [
        {
          "output_type": "execute_result",
          "data": {
            "text/plain": [
              "0.8909929594561787"
            ]
          },
          "metadata": {
            "tags": []
          },
          "execution_count": 29
        }
      ]
    },
    {
      "cell_type": "code",
      "metadata": {
        "id": "FZj3dCo_Xc3A",
        "colab_type": "code",
        "colab": {}
      },
      "source": [
        "# Second model using Logistic Regression\n",
        "model_lr = LogisticRegression(random_state=42)\n",
        "model_lr.fit(data_train, target_train)"
      ],
      "execution_count": null,
      "outputs": []
    },
    {
      "cell_type": "code",
      "metadata": {
        "id": "PPsK2JXLX1kQ",
        "colab_type": "code",
        "colab": {
          "base_uri": "https://localhost:8080/",
          "height": 34
        },
        "outputId": "3538b27e-0740-470c-9955-734b7cbea781"
      },
      "source": [
        "prediction_lr = model_lr.predict(data_test)\n",
        "accuracy_lr = accuracy_score(target_test, prediction_lr)\n",
        "accuracy_lr"
      ],
      "execution_count": null,
      "outputs": [
        {
          "output_type": "execute_result",
          "data": {
            "text/plain": [
              "0.9090798737557659"
            ]
          },
          "metadata": {
            "tags": []
          },
          "execution_count": 30
        }
      ]
    }
  ]
}